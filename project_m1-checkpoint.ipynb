{
 "cells": [
  {
   "cell_type": "markdown",
   "id": "401e2677",
   "metadata": {},
   "source": [
    "# Проект М1, мастерская"
   ]
  },
  {
   "cell_type": "markdown",
   "id": "1aee3640",
   "metadata": {},
   "source": [
    "## Загрузка библиотек"
   ]
  },
  {
   "cell_type": "markdown",
   "id": "3e291572",
   "metadata": {},
   "source": [
    "# УСТАНОВКА БИБЛИОТЕК\n",
    "\n",
    "# машинное обучение\n",
    "!pip install --upgrade scikit-learn"
   ]
  },
  {
   "cell_type": "code",
   "execution_count": 1,
   "id": "aee9e532",
   "metadata": {},
   "outputs": [],
   "source": [
    "# ИМПОРТ БИБЛИОТЕК, МОДУЛЕЙ И КЛАССОВ\n",
    "\n",
    "import pandas as pd\n",
    "import numpy as np\n",
    "import seaborn as sns\n",
    "import matplotlib\n",
    "import matplotlib.pyplot as plt\n",
    "import sklearn\n",
    "import warnings\n",
    "warnings.filterwarnings('ignore')\n",
    "\n",
    "# ЗАГРУЗКА МОДЕЛЕЙ\n",
    "from sklearn.linear_model import LinearRegression\n",
    "\n",
    "# ПРЕОБРАЗОВАНИЕ ДАННЫХ ДЛЯ МО\n",
    "from sklearn.model_selection import train_test_split\n",
    "from sklearn.preprocessing import StandardScaler, MinMaxScaler\n",
    "from sklearn.compose import ColumnTransformer\n",
    "\n",
    "# ЗАГРУЗКА МЕТРИК\n",
    "#from sklearn.metrics import root_mean_squared_error\n",
    "#from sklearn.metrics import make_scorer\n",
    "\n",
    "# ПАЙПЛАЙНЫ, ОПТИМИЗАЦИЯ, ОТБОР ПРИЗНАКОВ\n",
    "from sklearn.pipeline import Pipeline\n",
    "#from sklearn.model_selection import GridSearchCV\n",
    "\n",
    "# МОДУЛИ ДЛЯ ПРЕДСТАВЛЕНИЯ ДАННЫХ\n",
    "from IPython.display import display  #, HTML\n",
    "pd.set_option('display.float_format', '{:,.2f}'.format)\n",
    "# display(HTML(\"<style>.container { width:50% !important; }</style>\"))\n",
    "\n",
    "# УСТАНОВКА КОНСТАНТ\n",
    "TEST_SIZE = 0.2\n",
    "RANDOM_STATE = 42"
   ]
  },
  {
   "cell_type": "markdown",
   "id": "279ab4a7",
   "metadata": {},
   "source": [
    "## Исследование датасета"
   ]
  },
  {
   "cell_type": "markdown",
   "id": "c9dd3ac1",
   "metadata": {},
   "source": [
    "### Импорт датасета"
   ]
  },
  {
   "cell_type": "code",
   "execution_count": 2,
   "id": "37233790",
   "metadata": {},
   "outputs": [],
   "source": [
    "# импорт датасета\n",
    "try:\n",
    "    heart_train = pd.read_csv('C:/Users/alexeev.ALEXEEV-PC/Desktop/Masterskaya_1/heart_train.csv')\n",
    "except:\n",
    "    \n",
    "############# ССЫЛКА НЕ РАБОТАЕТ ##################\n",
    "    \n",
    "    heart_train = pd.read_csv('https://drive.google.com/drive/folders/1-tz244GFRTkAKKovyDEvEH_Kp9YjjMKV/heart_train.csv')"
   ]
  },
  {
   "cell_type": "code",
   "execution_count": 3,
   "id": "ba75a0c7",
   "metadata": {
    "scrolled": false
   },
   "outputs": [
    {
     "data": {
      "text/html": [
       "<div>\n",
       "<style scoped>\n",
       "    .dataframe tbody tr th:only-of-type {\n",
       "        vertical-align: middle;\n",
       "    }\n",
       "\n",
       "    .dataframe tbody tr th {\n",
       "        vertical-align: top;\n",
       "    }\n",
       "\n",
       "    .dataframe thead th {\n",
       "        text-align: right;\n",
       "    }\n",
       "</style>\n",
       "<table border=\"1\" class=\"dataframe\">\n",
       "  <thead>\n",
       "    <tr style=\"text-align: right;\">\n",
       "      <th></th>\n",
       "      <th>Unnamed: 0</th>\n",
       "      <th>Age</th>\n",
       "      <th>Cholesterol</th>\n",
       "      <th>Heart rate</th>\n",
       "      <th>Diabetes</th>\n",
       "      <th>Family History</th>\n",
       "      <th>Smoking</th>\n",
       "      <th>Obesity</th>\n",
       "      <th>Alcohol Consumption</th>\n",
       "      <th>Exercise Hours Per Week</th>\n",
       "      <th>...</th>\n",
       "      <th>Physical Activity Days Per Week</th>\n",
       "      <th>Sleep Hours Per Day</th>\n",
       "      <th>Heart Attack Risk (Binary)</th>\n",
       "      <th>Blood sugar</th>\n",
       "      <th>CK-MB</th>\n",
       "      <th>Troponin</th>\n",
       "      <th>Gender</th>\n",
       "      <th>Systolic blood pressure</th>\n",
       "      <th>Diastolic blood pressure</th>\n",
       "      <th>id</th>\n",
       "    </tr>\n",
       "  </thead>\n",
       "  <tbody>\n",
       "    <tr>\n",
       "      <th>0</th>\n",
       "      <td>0</td>\n",
       "      <td>0.36</td>\n",
       "      <td>0.73</td>\n",
       "      <td>0.07</td>\n",
       "      <td>1.00</td>\n",
       "      <td>1.00</td>\n",
       "      <td>1.00</td>\n",
       "      <td>1.00</td>\n",
       "      <td>1.00</td>\n",
       "      <td>0.54</td>\n",
       "      <td>...</td>\n",
       "      <td>3.00</td>\n",
       "      <td>0.33</td>\n",
       "      <td>0.00</td>\n",
       "      <td>0.23</td>\n",
       "      <td>0.05</td>\n",
       "      <td>0.04</td>\n",
       "      <td>Male</td>\n",
       "      <td>0.21</td>\n",
       "      <td>0.71</td>\n",
       "      <td>2664</td>\n",
       "    </tr>\n",
       "    <tr>\n",
       "      <th>1</th>\n",
       "      <td>1</td>\n",
       "      <td>0.20</td>\n",
       "      <td>0.33</td>\n",
       "      <td>0.05</td>\n",
       "      <td>1.00</td>\n",
       "      <td>1.00</td>\n",
       "      <td>0.00</td>\n",
       "      <td>0.00</td>\n",
       "      <td>1.00</td>\n",
       "      <td>0.07</td>\n",
       "      <td>...</td>\n",
       "      <td>3.00</td>\n",
       "      <td>0.83</td>\n",
       "      <td>0.00</td>\n",
       "      <td>0.15</td>\n",
       "      <td>0.02</td>\n",
       "      <td>0.00</td>\n",
       "      <td>Female</td>\n",
       "      <td>0.41</td>\n",
       "      <td>0.57</td>\n",
       "      <td>9287</td>\n",
       "    </tr>\n",
       "    <tr>\n",
       "      <th>2</th>\n",
       "      <td>2</td>\n",
       "      <td>0.61</td>\n",
       "      <td>0.86</td>\n",
       "      <td>0.06</td>\n",
       "      <td>1.00</td>\n",
       "      <td>0.00</td>\n",
       "      <td>1.00</td>\n",
       "      <td>1.00</td>\n",
       "      <td>1.00</td>\n",
       "      <td>0.94</td>\n",
       "      <td>...</td>\n",
       "      <td>2.00</td>\n",
       "      <td>1.00</td>\n",
       "      <td>0.00</td>\n",
       "      <td>0.23</td>\n",
       "      <td>0.05</td>\n",
       "      <td>0.04</td>\n",
       "      <td>Female</td>\n",
       "      <td>0.24</td>\n",
       "      <td>0.22</td>\n",
       "      <td>5379</td>\n",
       "    </tr>\n",
       "  </tbody>\n",
       "</table>\n",
       "<p>3 rows × 28 columns</p>\n",
       "</div>"
      ],
      "text/plain": [
       "   Unnamed: 0  Age  Cholesterol  Heart rate  Diabetes  Family History  \\\n",
       "0           0 0.36         0.73        0.07      1.00            1.00   \n",
       "1           1 0.20         0.33        0.05      1.00            1.00   \n",
       "2           2 0.61         0.86        0.06      1.00            0.00   \n",
       "\n",
       "   Smoking  Obesity  Alcohol Consumption  Exercise Hours Per Week  ...  \\\n",
       "0     1.00     1.00                 1.00                     0.54  ...   \n",
       "1     0.00     0.00                 1.00                     0.07  ...   \n",
       "2     1.00     1.00                 1.00                     0.94  ...   \n",
       "\n",
       "   Physical Activity Days Per Week  Sleep Hours Per Day  \\\n",
       "0                             3.00                 0.33   \n",
       "1                             3.00                 0.83   \n",
       "2                             2.00                 1.00   \n",
       "\n",
       "   Heart Attack Risk (Binary)  Blood sugar  CK-MB  Troponin  Gender  \\\n",
       "0                        0.00         0.23   0.05      0.04    Male   \n",
       "1                        0.00         0.15   0.02      0.00  Female   \n",
       "2                        0.00         0.23   0.05      0.04  Female   \n",
       "\n",
       "   Systolic blood pressure  Diastolic blood pressure    id  \n",
       "0                     0.21                      0.71  2664  \n",
       "1                     0.41                      0.57  9287  \n",
       "2                     0.24                      0.22  5379  \n",
       "\n",
       "[3 rows x 28 columns]"
      ]
     },
     "execution_count": 3,
     "metadata": {},
     "output_type": "execute_result"
    }
   ],
   "source": [
    "# первые строки датасета в виде таблицы\n",
    "heart_train.head(3)"
   ]
  },
  {
   "cell_type": "markdown",
   "id": "87890ae6",
   "metadata": {},
   "source": [
    "### Выявление бесполезных признаков, пропусков в данных и соответствия типов данных"
   ]
  },
  {
   "cell_type": "code",
   "execution_count": 4,
   "id": "6bcb1339",
   "metadata": {},
   "outputs": [
    {
     "data": {
      "text/plain": [
       "Index(['Unnamed: 0', 'Age', 'Cholesterol', 'Heart rate', 'Diabetes',\n",
       "       'Family History', 'Smoking', 'Obesity', 'Alcohol Consumption',\n",
       "       'Exercise Hours Per Week', 'Diet', 'Previous Heart Problems',\n",
       "       'Medication Use', 'Stress Level', 'Sedentary Hours Per Day', 'Income',\n",
       "       'BMI', 'Triglycerides', 'Physical Activity Days Per Week',\n",
       "       'Sleep Hours Per Day', 'Heart Attack Risk (Binary)', 'Blood sugar',\n",
       "       'CK-MB', 'Troponin', 'Gender', 'Systolic blood pressure',\n",
       "       'Diastolic blood pressure', 'id'],\n",
       "      dtype='object')"
      ]
     },
     "execution_count": 4,
     "metadata": {},
     "output_type": "execute_result"
    }
   ],
   "source": [
    "# перечень признаков в датасете\n",
    "heart_train.columns"
   ]
  },
  {
   "cell_type": "markdown",
   "id": "544303cd",
   "metadata": {},
   "source": [
    "**БЕСПОЛЕЗНЫЕ ПРИЗНАКИ:** *Unnamed: 0*, *Family History*. Возможно, *Income*, но не удаляем пока до исследования данных."
   ]
  },
  {
   "cell_type": "code",
   "execution_count": 5,
   "id": "ae49f70c",
   "metadata": {},
   "outputs": [
    {
     "data": {
      "text/plain": [
       "Index(['Age', 'Cholesterol', 'Heart rate', 'Diabetes', 'Smoking', 'Obesity',\n",
       "       'Alcohol Consumption', 'Exercise Hours Per Week', 'Diet',\n",
       "       'Previous Heart Problems', 'Medication Use', 'Stress Level',\n",
       "       'Sedentary Hours Per Day', 'Income', 'BMI', 'Triglycerides',\n",
       "       'Physical Activity Days Per Week', 'Sleep Hours Per Day',\n",
       "       'Heart Attack Risk (Binary)', 'Blood sugar', 'CK-MB', 'Troponin',\n",
       "       'Gender', 'Systolic blood pressure', 'Diastolic blood pressure', 'id'],\n",
       "      dtype='object')"
      ]
     },
     "execution_count": 5,
     "metadata": {},
     "output_type": "execute_result"
    }
   ],
   "source": [
    "# удаление бесполезных признаков из датасета с проверкой результата\n",
    "heart_train = heart_train.drop(['Unnamed: 0', 'Family History'], axis = 1)\n",
    "heart_train.columns"
   ]
  },
  {
   "cell_type": "code",
   "execution_count": 6,
   "id": "8ba22373",
   "metadata": {},
   "outputs": [
    {
     "name": "stdout",
     "output_type": "stream",
     "text": [
      "<class 'pandas.core.frame.DataFrame'>\n",
      "RangeIndex: 8685 entries, 0 to 8684\n",
      "Data columns (total 26 columns):\n",
      " #   Column                           Non-Null Count  Dtype  \n",
      "---  ------                           --------------  -----  \n",
      " 0   Age                              8685 non-null   float64\n",
      " 1   Cholesterol                      8685 non-null   float64\n",
      " 2   Heart rate                       8685 non-null   float64\n",
      " 3   Diabetes                         8442 non-null   float64\n",
      " 4   Smoking                          8442 non-null   float64\n",
      " 5   Obesity                          8442 non-null   float64\n",
      " 6   Alcohol Consumption              8442 non-null   float64\n",
      " 7   Exercise Hours Per Week          8685 non-null   float64\n",
      " 8   Diet                             8685 non-null   int64  \n",
      " 9   Previous Heart Problems          8442 non-null   float64\n",
      " 10  Medication Use                   8442 non-null   float64\n",
      " 11  Stress Level                     8442 non-null   float64\n",
      " 12  Sedentary Hours Per Day          8685 non-null   float64\n",
      " 13  Income                           8685 non-null   float64\n",
      " 14  BMI                              8685 non-null   float64\n",
      " 15  Triglycerides                    8685 non-null   float64\n",
      " 16  Physical Activity Days Per Week  8442 non-null   float64\n",
      " 17  Sleep Hours Per Day              8685 non-null   float64\n",
      " 18  Heart Attack Risk (Binary)       8685 non-null   float64\n",
      " 19  Blood sugar                      8685 non-null   float64\n",
      " 20  CK-MB                            8685 non-null   float64\n",
      " 21  Troponin                         8685 non-null   float64\n",
      " 22  Gender                           8685 non-null   object \n",
      " 23  Systolic blood pressure          8685 non-null   float64\n",
      " 24  Diastolic blood pressure         8685 non-null   float64\n",
      " 25  id                               8685 non-null   int64  \n",
      "dtypes: float64(23), int64(2), object(1)\n",
      "memory usage: 1.7+ MB\n"
     ]
    }
   ],
   "source": [
    "# общая информация по датасету\n",
    "heart_train.info()"
   ]
  },
  {
   "cell_type": "markdown",
   "id": "d43fc0ec",
   "metadata": {},
   "source": [
    "### ВЫВОДЫ:\n",
    "\n",
    "1.Выявлены и удалены из датасета бесполезные признаки *Unnamed: 0* и *Family History*.\n",
    "\n",
    "2.Признак *Income* предположительно также является бесполезным, но пока оставлен до проведения исследования данных.\n",
    "\n",
    "3.Все данные в оставленных признаках имеют надлежащие типы.\n",
    "\n",
    "4.В признаках *Diabetes, Smoking, Obesity, Alcohol Consumption, Previous Heart Problems, Medication Use, Stress Level, Physical Activity Days Per Week* присутствуют пропуски."
   ]
  },
  {
   "cell_type": "code",
   "execution_count": null,
   "id": "d6b70bb4",
   "metadata": {},
   "outputs": [],
   "source": []
  },
  {
   "cell_type": "code",
   "execution_count": null,
   "id": "821a48d7",
   "metadata": {},
   "outputs": [],
   "source": []
  },
  {
   "cell_type": "code",
   "execution_count": null,
   "id": "67517da2",
   "metadata": {},
   "outputs": [],
   "source": []
  },
  {
   "cell_type": "code",
   "execution_count": null,
   "id": "76fe6942",
   "metadata": {},
   "outputs": [],
   "source": []
  },
  {
   "cell_type": "code",
   "execution_count": null,
   "id": "33e54e72",
   "metadata": {},
   "outputs": [],
   "source": []
  },
  {
   "cell_type": "code",
   "execution_count": null,
   "id": "e622efa2",
   "metadata": {},
   "outputs": [],
   "source": []
  },
  {
   "cell_type": "code",
   "execution_count": null,
   "id": "cba885e8",
   "metadata": {},
   "outputs": [],
   "source": []
  },
  {
   "cell_type": "markdown",
   "id": "76e2ec13",
   "metadata": {},
   "source": [
    "#### ВОПРОСЫ:\n",
    "1. Как скачать датасет с диска Яндекса?"
   ]
  }
 ],
 "metadata": {
  "kernelspec": {
   "display_name": "Python 3 (ipykernel)",
   "language": "python",
   "name": "python3"
  },
  "language_info": {
   "codemirror_mode": {
    "name": "ipython",
    "version": 3
   },
   "file_extension": ".py",
   "mimetype": "text/x-python",
   "name": "python",
   "nbconvert_exporter": "python",
   "pygments_lexer": "ipython3",
   "version": "3.9.20"
  },
  "toc": {
   "base_numbering": 1,
   "nav_menu": {},
   "number_sections": true,
   "sideBar": true,
   "skip_h1_title": true,
   "title_cell": "Table of Contents",
   "title_sidebar": "Contents",
   "toc_cell": false,
   "toc_position": {
    "height": "calc(100% - 180px)",
    "left": "10px",
    "top": "150px",
    "width": "384px"
   },
   "toc_section_display": true,
   "toc_window_display": true
  }
 },
 "nbformat": 4,
 "nbformat_minor": 5
}
